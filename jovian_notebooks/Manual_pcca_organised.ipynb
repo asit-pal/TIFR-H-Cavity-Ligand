{
 "cells": [
  {
   "cell_type": "code",
   "execution_count": 1,
   "id": "gentle-player",
   "metadata": {},
   "outputs": [],
   "source": [
    "import pyemma                                                                       \n",
    "import os                                                                           \n",
    "import matplotlib.pyplot as plt                                              \n",
    "import numpy as np                                                                 \n",
    "import pyemma.coordinates as coor \n",
    "import pyemma.msm as msm \n",
    "import pyemma.plots as mplt \n",
    "from pyemma import config\n",
    "import pickle"
   ]
  },
  {
   "cell_type": "markdown",
   "id": "optional-friday",
   "metadata": {},
   "source": [
    "## import the trained model"
   ]
  },
  {
   "cell_type": "code",
   "execution_count": 2,
   "id": "preceding-corruption",
   "metadata": {},
   "outputs": [],
   "source": [
    "cluster = pickle.load(open('cluster_2.pkl','rb'))\n",
    "msm = pickle.load(open('msm_2.pkl','rb'))\n",
    "its = pickle.load(open('its.obj','rb'))"
   ]
  },
  {
   "cell_type": "markdown",
   "id": "minimal-family",
   "metadata": {},
   "source": [
    "## load the encoded data"
   ]
  },
  {
   "cell_type": "code",
   "execution_count": 3,
   "id": "boolean-marine",
   "metadata": {},
   "outputs": [],
   "source": [
    "encoded = np.load(\"3_TAE_lat_lag_8_seed.npy\")\n",
    "scaled_en_0 = (encoded[:,0]-np.min(encoded[:,0]))/(np.max(encoded[:,0])-np.min(encoded[:,0]))\n",
    "scaled_en_1 = (encoded[:,1]-np.min(encoded[:,1]))/(np.max(encoded[:,1])-np.min(encoded[:,1]))\n",
    "scaled_encoded = np.column_stack([scaled_en_0,scaled_en_1])"
   ]
  },
  {
   "cell_type": "markdown",
   "id": "genetic-headset",
   "metadata": {},
   "source": [
    "## start manual pcca"
   ]
  },
  {
   "cell_type": "markdown",
   "id": "distant-break",
   "metadata": {},
   "source": [
    "# i)  getting the no of positive and negative clusters"
   ]
  },
  {
   "cell_type": "code",
   "execution_count": 4,
   "id": "ahead-appointment",
   "metadata": {},
   "outputs": [
    {
     "name": "stdout",
     "output_type": "stream",
     "text": [
      "409 91\n"
     ]
    }
   ],
   "source": [
    "j1=0;j2=0\n",
    "for i in range(np.shape(msm.eigenvectors_right())[0]):\n",
    "    if(msm.eigenvectors_right()[i,1] > 0.0):\n",
    "        j1=j1+1\n",
    "\n",
    "    if(msm.eigenvectors_right()[i,1] < 0.0):\n",
    "        j2=j2+1\n",
    "print(j1,j2)\n",
    "\n",
    "\n",
    "Mp = np.zeros((j1,4))\n",
    "Mn = np.zeros((j2,4))"
   ]
  },
  {
   "cell_type": "markdown",
   "id": "advanced-university",
   "metadata": {},
   "source": [
    "## save the right and left eigenvectors in arrays"
   ]
  },
  {
   "cell_type": "code",
   "execution_count": 5,
   "id": "mathematical-helen",
   "metadata": {},
   "outputs": [],
   "source": [
    "j1=0;j2=0\n",
    "for i in range(np.shape(msm.eigenvectors_right())[0]):\n",
    "    if(msm.eigenvectors_right()[i,1] > 0.0):\n",
    "        Mp[j1][0] = i+1\n",
    "        Mp[j1][1] = i\n",
    "        Mp[j1][2] = msm.eigenvectors_right()[i,1]\n",
    "        Mp[j1][3] = msm.eigenvectors_left()[0,i]\n",
    "        j1=j1+1\n",
    "    if(msm.eigenvectors_right()[i,1] < 0.0):\n",
    "        Mn[j2][0] = i+1\n",
    "        Mn[j2][1] = i\n",
    "        Mn[j2][2] = msm.eigenvectors_right()[i,1]\n",
    "        Mn[j2][3] = msm.eigenvectors_left()[0,i]\n",
    "        j2=j2+1"
   ]
  },
  {
   "cell_type": "markdown",
   "id": "abandoned-firewall",
   "metadata": {},
   "source": [
    "## Create the mannual discrete trajectories"
   ]
  },
  {
   "cell_type": "code",
   "execution_count": 37,
   "id": "characteristic-tourism",
   "metadata": {},
   "outputs": [],
   "source": [
    "discrete_trajs = -1*np.ones_like(cluster.dtrajs).T  # shape 4022018 * 1"
   ]
  },
  {
   "cell_type": "code",
   "execution_count": 38,
   "id": "rural-system",
   "metadata": {},
   "outputs": [],
   "source": [
    "dtrajs = cluster.dtrajs"
   ]
  },
  {
   "cell_type": "code",
   "execution_count": 39,
   "id": "arctic-flesh",
   "metadata": {},
   "outputs": [],
   "source": [
    "for i in range(Mp.shape[0]):\n",
    "    temp = np.where(dtrajs==Mp[i,1])\n",
    "    discrete_trajs[temp[1]] =0\n",
    "    \n",
    "for i in range(Mn.shape[0]):\n",
    "    temp = np.where(dtrajs==Mn[i,1])\n",
    "    discrete_trajs[temp[1]] = 1"
   ]
  },
  {
   "cell_type": "code",
   "execution_count": 40,
   "id": "guilty-stack",
   "metadata": {},
   "outputs": [
    {
     "data": {
      "text/plain": [
       "4022018"
      ]
     },
     "execution_count": 40,
     "metadata": {},
     "output_type": "execute_result"
    }
   ],
   "source": [
    "np.shape(np.where(discrete_trajs==1))[1] + np.shape(np.where(discrete_trajs==0))[1]"
   ]
  },
  {
   "cell_type": "markdown",
   "id": "heated-windows",
   "metadata": {},
   "source": [
    "## plot the states"
   ]
  },
  {
   "cell_type": "code",
   "execution_count": 41,
   "id": "documented-committee",
   "metadata": {},
   "outputs": [
    {
     "data": {
      "text/plain": [
       "(4022018,)"
      ]
     },
     "execution_count": 41,
     "metadata": {},
     "output_type": "execute_result"
    }
   ],
   "source": [
    "np.shape(np.concatenate(discrete_trajs))"
   ]
  },
  {
   "cell_type": "code",
   "execution_count": 36,
   "id": "comic-leeds",
   "metadata": {},
   "outputs": [],
   "source": [
    "np.savetxt('discrete_trajs.txt', discrete_trajs, fmt = '%6.0d')"
   ]
  },
  {
   "cell_type": "code",
   "execution_count": 44,
   "id": "mighty-likelihood",
   "metadata": {},
   "outputs": [
    {
     "data": {
      "image/png": "[encoded data removed]",
      "text/plain": [
       "<Figure size 864x576 with 2 Axes>"
      ]
     },
     "metadata": {
      "needs_background": "light"
     },
     "output_type": "display_data"
    }
   ],
   "source": [
    "fig, ax = plt.subplots(figsize=(12, 8))\n",
    "_, _, misc = pyemma.plots.plot_state_map(\n",
    "    *scaled_encoded.T,np.concatenate(discrete_trajs),nbins=40, ax=ax, zorder=-1)\n",
    "misc['cbar'].set_ticklabels(range(0, 2))\n",
    "\n",
    "ax.set_xlabel('TAE-1')\n",
    "ax.set_ylabel('TAE-2')\n",
    "ax.set_xlim(0, 1)\n",
    "ax.set_ylim(0, 1)\n",
    "fig.tight_layout()\n",
    "plt.savefig('2_ststes_1.png',dpi=300)"
   ]
  },
  {
   "cell_type": "markdown",
   "id": "traditional-assist",
   "metadata": {},
   "source": [
    "## based on the observation do a mannual state decomposition"
   ]
  },
  {
   "cell_type": "code",
   "execution_count": 46,
   "id": "exposed-medline",
   "metadata": {},
   "outputs": [
    {
     "name": "stdout",
     "output_type": "stream",
     "text": [
      "61 30\n"
     ]
    }
   ],
   "source": [
    "j1=0;j2=0\n",
    "for i in range(np.shape(msm.eigenvectors_right())[0]):\n",
    "    if(msm.eigenvectors_right()[i,1] < 0.0) and (msm.eigenvectors_right()[i,2] > 0.0):\n",
    "        j1=j1+1\n",
    "\n",
    "    if(msm.eigenvectors_right()[i,1] < 0.0) and (msm.eigenvectors_right()[i,2] < 0.0):\n",
    "        j2=j2+1\n",
    "print(j1,j2)\n",
    "Mnp = np.zeros((j1,4))\n",
    "Mnn = np.zeros((j2,4))"
   ]
  },
  {
   "cell_type": "code",
   "execution_count": 49,
   "id": "stopped-endorsement",
   "metadata": {},
   "outputs": [
    {
     "name": "stdout",
     "output_type": "stream",
     "text": [
      "np:   39.90756628270869\n",
      "nn:   0.8872745764435477\n"
     ]
    }
   ],
   "source": [
    "j1=0;j2=0\n",
    "for i in range(np.shape(msm.eigenvectors_right())[0]):\n",
    "    if(msm.eigenvectors_right()[i,1] < 0.0) and (msm.eigenvectors_right()[i,2] > 0.0):\n",
    "        Mnp[j1][0] = i+1\n",
    "        Mnp[j1][1] = i\n",
    "        Mnp[j1][2] = msm.eigenvectors_right()[i,1]\n",
    "        Mnp[j1][3] = msm.eigenvectors_left()[0,i]\n",
    "        j1=j1+1\n",
    "    if(msm.eigenvectors_right()[i,1] < 0.0) and (msm.eigenvectors_right()[i,2] < 0.0):\n",
    "        Mnn[j2][0] = i+1\n",
    "        Mnn[j2][1] = i\n",
    "        Mnn[j2][2] = msm.eigenvectors_right()[i,1]\n",
    "        Mnn[j2][3] = msm.eigenvectors_left()[0,i]\n",
    "        j2=j2+1\n",
    "print(\"np:  \",np.sum(Mnp[:,3])*100 )\n",
    "print(\"nn:  \",np.sum(Mnn[:,3])*100 )"
   ]
  },
  {
   "cell_type": "code",
   "execution_count": 50,
   "id": "nearby-realtor",
   "metadata": {},
   "outputs": [],
   "source": [
    "for i in range(Mp.shape[0]):\n",
    "    temp = np.where(dtrajs==Mp[i,1])\n",
    "    discrete_trajs[temp[1]] =0\n",
    "    \n",
    "for i in range(Mnp.shape[0]):\n",
    "    temp = np.where(dtrajs==Mnp[i,1])\n",
    "    discrete_trajs[temp[1]] = 1\n",
    "    \n",
    "for i in range(Mnn.shape[0]):\n",
    "    temp = np.where(dtrajs==Mnn[i,1])\n",
    "    discrete_trajs[temp[1]] = 2"
   ]
  },
  {
   "cell_type": "code",
   "execution_count": 51,
   "id": "scheduled-leisure",
   "metadata": {},
   "outputs": [
    {
     "data": {
      "image/png": "[encoded data removed]",
      "text/plain": [
       "<Figure size 864x576 with 2 Axes>"
      ]
     },
     "metadata": {
      "needs_background": "light"
     },
     "output_type": "display_data"
    }
   ],
   "source": [
    "fig, ax = plt.subplots(figsize=(12, 8))\n",
    "_, _, misc = pyemma.plots.plot_state_map(\n",
    "    *scaled_encoded.T,np.concatenate(discrete_trajs),nbins=40, ax=ax, zorder=-1)\n",
    "misc['cbar'].set_ticklabels(range(0, 3))\n",
    "\n",
    "ax.set_xlabel('TAE-1')\n",
    "ax.set_ylabel('TAE-2')\n",
    "ax.set_xlim(0, 1)\n",
    "ax.set_ylim(0, 1)\n",
    "fig.tight_layout()\n",
    "plt.savefig('3_ststes.png',dpi=300)"
   ]
  },
  {
   "cell_type": "markdown",
   "id": "opening-portfolio",
   "metadata": {},
   "source": [
    "## Repeat the process"
   ]
  },
  {
   "cell_type": "code",
   "execution_count": 57,
   "id": "authentic-youth",
   "metadata": {},
   "outputs": [
    {
     "name": "stdout",
     "output_type": "stream",
     "text": [
      "0 30\n"
     ]
    }
   ],
   "source": [
    "j1=0;j2=0\n",
    "for i in range(np.shape(msm.eigenvectors_right())[0]):\n",
    "    if(msm.eigenvectors_right()[i,1] < 0.0) and (msm.eigenvectors_right()[i,2] < 0.0) and (msm.eigenvectors_right()[i,2] > 0.0):\n",
    "    \n",
    "    #(msm.eigenvectors_right()[i,2] > 0.0):\n",
    "        j1=j1+1\n",
    "        \n",
    "    if(msm.eigenvectors_right()[i,1] < 0.0) and (msm.eigenvectors_right()[i,2] < 0.0) and (msm.eigenvectors_right()[i,2] < 0.0):\n",
    "    \n",
    "        j2=j2+1\n",
    "        \n",
    "print(j1,j2)\n",
    "Mnnp = np.zeros((j1,4))\n",
    "Mnnn = np.zeros((j2,4))"
   ]
  },
  {
   "cell_type": "code",
   "execution_count": 59,
   "id": "satellite-brown",
   "metadata": {},
   "outputs": [
    {
     "name": "stdout",
     "output_type": "stream",
     "text": [
      "67 342\n"
     ]
    }
   ],
   "source": [
    "j1=0;j2=0\n",
    "for i in range(np.shape(msm.eigenvectors_right())[0]):\n",
    "    if(msm.eigenvectors_right()[i,1] > 0.0) and (msm.eigenvectors_right()[i,2] > 0.0):\n",
    "    \n",
    "    #(msm.eigenvectors_right()[i,2] > 0.0):\n",
    "        j1=j1+1\n",
    "        \n",
    "    if(msm.eigenvectors_right()[i,1] > 0.0) and (msm.eigenvectors_right()[i,2] < 0.0):\n",
    "    \n",
    "        j2=j2+1\n",
    "        \n",
    "print(j1,j2)\n",
    "Mpp = np.zeros((j1,4))\n",
    "Mpn = np.zeros((j2,4))"
   ]
  },
  {
   "cell_type": "code",
   "execution_count": 60,
   "id": "unexpected-isaac",
   "metadata": {},
   "outputs": [
    {
     "name": "stdout",
     "output_type": "stream",
     "text": [
      "np:   18.981237661396275\n",
      "nn:   40.223921479451484\n"
     ]
    }
   ],
   "source": [
    "j1=0;j2=0\n",
    "for i in range(np.shape(msm.eigenvectors_right())[0]):\n",
    "    if(msm.eigenvectors_right()[i,1] > 0.0) and (msm.eigenvectors_right()[i,2] > 0.0):\n",
    "        Mpp[j1][0] = i+1\n",
    "        Mpp[j1][1] = i\n",
    "        Mpp[j1][2] = msm.eigenvectors_right()[i,1]\n",
    "        Mpp[j1][3] = msm.eigenvectors_left()[0,i]\n",
    "        j1=j1+1\n",
    "    if(msm.eigenvectors_right()[i,1] > 0.0) and (msm.eigenvectors_right()[i,2] < 0.0):\n",
    "        Mpn[j2][0] = i+1\n",
    "        Mpn[j2][1] = i\n",
    "        Mpn[j2][2] = msm.eigenvectors_right()[i,1]\n",
    "        Mpn[j2][3] = msm.eigenvectors_left()[0,i]\n",
    "        j2=j2+1\n",
    "print(\"np:  \",np.sum(Mpp[:,3])*100 )\n",
    "print(\"nn:  \",np.sum(Mpn[:,3])*100 )"
   ]
  },
  {
   "cell_type": "code",
   "execution_count": 61,
   "id": "turkish-merit",
   "metadata": {},
   "outputs": [],
   "source": [
    "for i in range(Mpp.shape[0]):\n",
    "    temp = np.where(dtrajs==Mpp[i,1])\n",
    "    discrete_trajs[temp[1]] =0\n",
    "    \n",
    "for i in range(Mpn.shape[0]):\n",
    "    temp = np.where(dtrajs==Mpn[i,1])\n",
    "    discrete_trajs[temp[1]] =1\n",
    "    \n",
    "for i in range(Mnp.shape[0]):\n",
    "    temp = np.where(dtrajs==Mnp[i,1])\n",
    "    discrete_trajs[temp[1]] = 2\n",
    "    \n",
    "for i in range(Mnn.shape[0]):\n",
    "    temp = np.where(dtrajs==Mnn[i,1])\n",
    "    discrete_trajs[temp[1]] = 3"
   ]
  },
  {
   "cell_type": "code",
   "execution_count": 62,
   "id": "sunset-discrimination",
   "metadata": {},
   "outputs": [],
   "source": [
    "np.save('discrete_trajs_4_states.npy',discrete_trajs)"
   ]
  },
  {
   "cell_type": "code",
   "execution_count": 63,
   "id": "terminal-saying",
   "metadata": {},
   "outputs": [
    {
     "data": {
      "image/png": "[encoded data removed]",
      "text/plain": [
       "<Figure size 864x576 with 2 Axes>"
      ]
     },
     "metadata": {
      "needs_background": "light"
     },
     "output_type": "display_data"
    }
   ],
   "source": [
    "fig, ax = plt.subplots(figsize=(12, 8))\n",
    "_, _, misc = pyemma.plots.plot_state_map(\n",
    "    *scaled_encoded.T,np.concatenate(discrete_trajs),nbins=40, ax=ax, zorder=-1)\n",
    "misc['cbar'].set_ticklabels(range(0, 4))\n",
    "\n",
    "ax.set_xlabel('TAE-1')\n",
    "ax.set_ylabel('TAE-2')\n",
    "ax.set_xlim(0, 1)\n",
    "ax.set_ylim(0, 1)\n",
    "fig.tight_layout()\n",
    "plt.savefig('4_ststes.png',dpi=300)"
   ]
  },
  {
   "cell_type": "markdown",
   "id": "fitting-patch",
   "metadata": {},
   "source": [
    "## calculate average distance and no of water in the states"
   ]
  },
  {
   "cell_type": "code",
   "execution_count": 69,
   "id": "addressed-extension",
   "metadata": {},
   "outputs": [],
   "source": [
    "discrete_trajs_cat = np.concatenate(discrete_trajs)"
   ]
  },
  {
   "cell_type": "code",
   "execution_count": 71,
   "id": "entertaining-intro",
   "metadata": {},
   "outputs": [
    {
     "name": "stdout",
     "output_type": "stream",
     "text": [
      "[ 2.47870816 28.34710217]\n",
      "[ 1.71227476 28.95176979]\n",
      "[0.82386463 5.05558629]\n",
      "[ 1.14746974 23.5207084 ]\n"
     ]
    }
   ],
   "source": [
    "unscaled = np.load('Unscaled_data_sorted.npy')\n",
    "state0=unscaled[discrete_trajs_cat==0]\n",
    "state1=unscaled[discrete_trajs_cat==1]\n",
    "state2=unscaled[discrete_trajs_cat==2]\n",
    "state3=unscaled[discrete_trajs_cat==3]\n",
    "\n",
    "print(np.mean(state0,axis=0))\n",
    "print(np.mean(state1,axis=0))\n",
    "print(np.mean(state2,axis=0))\n",
    "print(np.mean(state3,axis=0))"
   ]
  },
  {
   "cell_type": "code",
   "execution_count": 67,
   "id": "invalid-ireland",
   "metadata": {},
   "outputs": [
    {
     "data": {
      "text/plain": [
       "array([False, False, False, ..., False, False, False])"
      ]
     },
     "execution_count": 67,
     "metadata": {},
     "output_type": "execute_result"
    }
   ],
   "source": [
    "np.concatenate(discrete_trajs==0)"
   ]
  },
  {
   "cell_type": "code",
   "execution_count": null,
   "id": "defined-blackjack",
   "metadata": {},
   "outputs": [],
   "source": []
  }
 ],
 "metadata": {
  "kernelspec": {
   "display_name": "Python 3",
   "language": "python",
   "name": "python3"
  },
  "language_info": {
   "codemirror_mode": {
    "name": "ipython",
    "version": 3
   },
   "file_extension": ".py",
   "mimetype": "text/x-python",
   "name": "python",
   "nbconvert_exporter": "python",
   "pygments_lexer": "ipython3",
   "version": "3.8.6"
  }
 },
 "nbformat": 4,
 "nbformat_minor": 5
}
